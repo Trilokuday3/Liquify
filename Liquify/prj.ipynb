{
 "cells": [
  {
   "cell_type": "code",
   "execution_count": 1,
   "metadata": {},
   "outputs": [
    {
     "name": "stderr",
     "output_type": "stream",
     "text": [
      "C:\\Users\\trilo\\AppData\\Local\\Temp\\ipykernel_19460\\3518348457.py:2: DeprecationWarning: \n",
      "Pyarrow will become a required dependency of pandas in the next major release of pandas (pandas 3.0),\n",
      "(to allow more performant data types, such as the Arrow string type, and better interoperability with other libraries)\n",
      "but was not found to be installed on your system.\n",
      "If this would cause problems for you,\n",
      "please provide us feedback at https://github.com/pandas-dev/pandas/issues/54466\n",
      "        \n",
      "  import pandas as pd\n"
     ]
    }
   ],
   "source": [
    "import numpy as np\n",
    "import pandas as pd\n",
    "import matplotlib.pyplot  as plt \n"
   ]
  },
  {
   "cell_type": "code",
   "execution_count": 3,
   "metadata": {},
   "outputs": [],
   "source": [
    "df = pd.read_csv(r\"Laptops.csv\")\n"
   ]
  },
  {
   "cell_type": "code",
   "execution_count": 4,
   "metadata": {},
   "outputs": [
    {
     "ename": "ValueError",
     "evalue": "invalid literal for int() with base 10: '$1890.00'",
     "output_type": "error",
     "traceback": [
      "\u001b[1;31m---------------------------------------------------------------------------\u001b[0m",
      "\u001b[1;31mValueError\u001b[0m                                Traceback (most recent call last)",
      "Cell \u001b[1;32mIn[4], line 58\u001b[0m\n\u001b[0;32m     55\u001b[0m minimum_specs \u001b[38;5;241m=\u001b[39m {\u001b[38;5;124m'\u001b[39m\u001b[38;5;124mgpu\u001b[39m\u001b[38;5;124m'\u001b[39m: \u001b[38;5;124m'\u001b[39m\u001b[38;5;124mNVIDIA GeForce GTX 1650 (Laptop)\u001b[39m\u001b[38;5;124m'\u001b[39m, \u001b[38;5;124m'\u001b[39m\u001b[38;5;124mram\u001b[39m\u001b[38;5;124m'\u001b[39m: \u001b[38;5;124m'\u001b[39m\u001b[38;5;124m16GB\u001b[39m\u001b[38;5;124m'\u001b[39m, \u001b[38;5;124m'\u001b[39m\u001b[38;5;124mdisplay_size\u001b[39m\u001b[38;5;124m'\u001b[39m: \u001b[38;5;124m'\u001b[39m\u001b[38;5;124m15.6\u001b[39m\u001b[38;5;124m\"\u001b[39m\u001b[38;5;124m'\u001b[39m}\n\u001b[0;32m     57\u001b[0m \u001b[38;5;66;03m# Get suggested laptops based on the inputs\u001b[39;00m\n\u001b[1;32m---> 58\u001b[0m suggested_laptops \u001b[38;5;241m=\u001b[39m \u001b[43msuggest_laptops\u001b[49m\u001b[43m(\u001b[49m\u001b[43mlaptops\u001b[49m\u001b[43m,\u001b[49m\u001b[43m \u001b[49m\u001b[43muse_case\u001b[49m\u001b[43m,\u001b[49m\u001b[43m \u001b[49m\u001b[43mbudget\u001b[49m\u001b[43m,\u001b[49m\u001b[43m \u001b[49m\u001b[43mminimum_specs\u001b[49m\u001b[43m)\u001b[49m\n\u001b[0;32m     60\u001b[0m \u001b[38;5;66;03m# Print the suggested laptops\u001b[39;00m\n\u001b[0;32m     61\u001b[0m \u001b[38;5;28;01mif\u001b[39;00m suggested_laptops:\n",
      "Cell \u001b[1;32mIn[4], line 16\u001b[0m, in \u001b[0;36msuggest_laptops\u001b[1;34m(laptops, use_case, budget, minimum_specs)\u001b[0m\n\u001b[0;32m     14\u001b[0m suggested_laptops \u001b[38;5;241m=\u001b[39m []\n\u001b[0;32m     15\u001b[0m \u001b[38;5;28;01mfor\u001b[39;00m laptop \u001b[38;5;129;01min\u001b[39;00m laptops:\n\u001b[1;32m---> 16\u001b[0m     \u001b[38;5;28;01mif\u001b[39;00m \u001b[43mlaptop_meets_criteria\u001b[49m\u001b[43m(\u001b[49m\u001b[43mlaptop\u001b[49m\u001b[43m,\u001b[49m\u001b[43m \u001b[49m\u001b[43muse_case\u001b[49m\u001b[43m,\u001b[49m\u001b[43m \u001b[49m\u001b[43mbudget\u001b[49m\u001b[43m,\u001b[49m\u001b[43m \u001b[49m\u001b[43mminimum_specs\u001b[49m\u001b[43m)\u001b[49m:\n\u001b[0;32m     17\u001b[0m         suggested_laptops\u001b[38;5;241m.\u001b[39mappend(laptop)\n\u001b[0;32m     19\u001b[0m \u001b[38;5;66;03m# Sort suggested laptops by a ranking criterion, such as service rank\u001b[39;00m\n",
      "Cell \u001b[1;32mIn[4], line 26\u001b[0m, in \u001b[0;36mlaptop_meets_criteria\u001b[1;34m(laptop, use_case, budget, minimum_specs)\u001b[0m\n\u001b[0;32m     25\u001b[0m \u001b[38;5;28;01mdef\u001b[39;00m \u001b[38;5;21mlaptop_meets_criteria\u001b[39m(laptop, use_case, budget, minimum_specs):\n\u001b[1;32m---> 26\u001b[0m     \u001b[38;5;28;01mif\u001b[39;00m laptop[\u001b[38;5;124m'\u001b[39m\u001b[38;5;124mprice_in_dollar\u001b[39m\u001b[38;5;124m'\u001b[39m] \u001b[38;5;129;01mand\u001b[39;00m \u001b[38;5;28;43mint\u001b[39;49m\u001b[43m(\u001b[49m\u001b[43mlaptop\u001b[49m\u001b[43m[\u001b[49m\u001b[38;5;124;43m'\u001b[39;49m\u001b[38;5;124;43mprice_in_dollar\u001b[39;49m\u001b[38;5;124;43m'\u001b[39;49m\u001b[43m]\u001b[49m\u001b[43m)\u001b[49m \u001b[38;5;241m>\u001b[39m budget:\n\u001b[0;32m     27\u001b[0m         \u001b[38;5;28;01mreturn\u001b[39;00m \u001b[38;5;28;01mFalse\u001b[39;00m\n\u001b[0;32m     29\u001b[0m     \u001b[38;5;28;01mif\u001b[39;00m use_case\u001b[38;5;241m.\u001b[39mlower() \u001b[38;5;129;01mnot\u001b[39;00m \u001b[38;5;129;01min\u001b[39;00m laptop[\u001b[38;5;124m'\u001b[39m\u001b[38;5;124mfull_name_with_specs\u001b[39m\u001b[38;5;124m'\u001b[39m]\u001b[38;5;241m.\u001b[39mlower():\n",
      "\u001b[1;31mValueError\u001b[0m: invalid literal for int() with base 10: '$1890.00'"
     ]
    }
   ],
   "source": [
    "import csv\n",
    "\n",
    "# Function to load laptop data from a CSV file\n",
    "def load_laptops_from_csv(file_path):\n",
    "    laptops = []\n",
    "    with open(file_path, newline='', encoding='utf-8') as csvfile:\n",
    "        reader = csv.DictReader(csvfile)\n",
    "        for row in reader:\n",
    "            laptops.append(row)\n",
    "    return laptops\n",
    "\n",
    "# Function to suggest laptops based on user inputs\n",
    "def suggest_laptops(laptops, use_case, budget, minimum_specs):\n",
    "    suggested_laptops = []\n",
    "    for laptop in laptops:\n",
    "        if laptop_meets_criteria(laptop, use_case, budget, minimum_specs):\n",
    "            suggested_laptops.append(laptop)\n",
    "    \n",
    "    # Sort suggested laptops by a ranking criterion, such as service rank\n",
    "    suggested_laptops.sort(key=lambda x: x['service_rank'], reverse=True)\n",
    "    \n",
    "    return suggested_laptops\n",
    "\n",
    "# Function to check if a laptop meets the specified criteria\n",
    "def laptop_meets_criteria(laptop, use_case, budget, minimum_specs):\n",
    "    if laptop['price_in_dollar'] and int(laptop['price_in_dollar']) > budget:\n",
    "        return False\n",
    "    \n",
    "    if use_case.lower() not in laptop['full_name_with_specs'].lower():\n",
    "        return False\n",
    "    \n",
    "    for spec, value in minimum_specs.items():\n",
    "        if spec in laptop:\n",
    "            if spec == 'display_size':\n",
    "                if float(laptop[spec].replace('\"', '')) < float(value):\n",
    "                    return False\n",
    "            elif spec == 'ram':\n",
    "                if int(laptop[spec].replace('GB', '')) < int(value):\n",
    "                    return False\n",
    "            else:\n",
    "                if laptop[spec] != value:\n",
    "                    return False\n",
    "        else:\n",
    "            return False\n",
    "    \n",
    "    return True\n",
    "\n",
    "# Load laptop data from CSV file\n",
    "file_path = r\"F:\\SEM4\\Project\\Laptops.csv\"\n",
    "laptops = load_laptops_from_csv(file_path)\n",
    "\n",
    "# Example usage\n",
    "use_case = \"gaming\"\n",
    "budget = 1500\n",
    "minimum_specs = {'gpu': 'NVIDIA GeForce GTX 1650 (Laptop)', 'ram': '16GB', 'display_size': '15.6\"'}\n",
    "\n",
    "# Get suggested laptops based on the inputs\n",
    "suggested_laptops = suggest_laptops(laptops, use_case, budget, minimum_specs)\n",
    "\n",
    "# Print the suggested laptops\n",
    "if suggested_laptops:\n",
    "    print(\"Suggested Laptops:\")\n",
    "    for index, laptop in enumerate(suggested_laptops, start=1):\n",
    "        print(f\"{index}. {laptop['full_name_with_specs']} - Price: ${laptop['price_in_dollar']}\")\n",
    "else:\n",
    "    print(\"No laptops found matching the criteria.\")\n"
   ]
  },
  {
   "cell_type": "code",
   "execution_count": null,
   "metadata": {},
   "outputs": [],
   "source": []
  }
 ],
 "metadata": {
  "kernelspec": {
   "display_name": "Python 3",
   "language": "python",
   "name": "python3"
  },
  "language_info": {
   "codemirror_mode": {
    "name": "ipython",
    "version": 3
   },
   "file_extension": ".py",
   "mimetype": "text/x-python",
   "name": "python",
   "nbconvert_exporter": "python",
   "pygments_lexer": "ipython3",
   "version": "3.12.1"
  }
 },
 "nbformat": 4,
 "nbformat_minor": 2
}
